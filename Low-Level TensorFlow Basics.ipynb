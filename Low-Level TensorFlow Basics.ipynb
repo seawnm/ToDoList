{
 "cells": [
  {
   "cell_type": "markdown",
   "metadata": {},
   "source": [
    "### Tensorflow基礎用法"
   ]
  },
  {
   "cell_type": "code",
   "execution_count": 3,
   "metadata": {},
   "outputs": [
    {
     "name": "stderr",
     "output_type": "stream",
     "text": [
      "/anaconda3/envs/tensorflow/lib/python3.6/site-packages/h5py/__init__.py:36: FutureWarning: Conversion of the second argument of issubdtype from `float` to `np.floating` is deprecated. In future, it will be treated as `np.float64 == np.dtype(float).type`.\n",
      "  from ._conv import register_converters as _register_converters\n"
     ]
    }
   ],
   "source": [
    "import tensorflow as tf"
   ]
  },
  {
   "cell_type": "code",
   "execution_count": 4,
   "metadata": {},
   "outputs": [],
   "source": [
    "# 建立tensorflow(簡稱tf)字串常數\n",
    "c = tf.constant('Hello, world!')"
   ]
  },
  {
   "cell_type": "code",
   "execution_count": 6,
   "metadata": {},
   "outputs": [
    {
     "name": "stdout",
     "output_type": "stream",
     "text": [
      "Tensor(\"Const:0\", shape=(), dtype=string)\n"
     ]
    }
   ],
   "source": [
    "# 直接印變數只會顯示tf的變數類型\n",
    "print(c)"
   ]
  },
  {
   "cell_type": "code",
   "execution_count": 5,
   "metadata": {},
   "outputs": [
    {
     "name": "stdout",
     "output_type": "stream",
     "text": [
      "b'Hello, world!'\n"
     ]
    }
   ],
   "source": [
    "# 執行tf變數前,需建立tf session(一個session可以部署到多台機器上執行)\n",
    "# with語法可在獨立的命名空間,定義變數(名為sess)的存活範圍\n",
    "# run()可以啟動事先定義好的tf動作(operations),許多動作構成計算圖(graph)\n",
    "with tf.Session() as sess:\n",
    "    print(sess.run(c))"
   ]
  },
  {
   "cell_type": "markdown",
   "metadata": {},
   "source": [
    "---\n",
    "#### tensor:即任意維度的向量,包括：\n",
    "##### scalar: 0維陣列\n",
    "##### vector: 向量, 1維陣列\n",
    "##### matrix: 矩陣, 2維陣列"
   ]
  },
  {
   "cell_type": "markdown",
   "metadata": {},
   "source": [
    "---\n",
    "#### TF計算圖中,tensor代表線段,operations代表點,構成graph\n",
    "#### TF僅會計算需要用到的節點,節省資源加快效率\n",
    "---"
   ]
  },
  {
   "cell_type": "code",
   "execution_count": 12,
   "metadata": {},
   "outputs": [
    {
     "name": "stdout",
     "output_type": "stream",
     "text": [
      "[5]\n"
     ]
    }
   ],
   "source": [
    "## 計算圖內的節點包括constants(值不可變)和variables(值可變)\n",
    "x = tf.constant(5.2)\n",
    "y = tf.Variable([0])\n",
    "y = tf.Variable([1])\n",
    "y = tf.Variable([2])\n",
    "y = y.assign([5])\n",
    "with tf.Session() as sess:\n",
    "#   tf.Variable需要先初始化後才能使用\n",
    "    init = tf.global_variables_initializer()\n",
    "    print(y.eval())"
   ]
  },
  {
   "cell_type": "markdown",
   "metadata": {},
   "source": [
    "### 原文連結\n",
    "* [TensorFlow Hello World](https://colab.research.google.com/notebooks/mlcc/hello_world.ipynb?hl=en)\n",
    "* [TensorFlow Programming Concepts](https://colab.research.google.com/notebooks/mlcc/tensorflow_programming_concepts.ipynb?hl=en)\n",
    "* [Creating and Manipulating Tensors](https://colab.research.google.com/notebooks/mlcc/creating_and_manipulating_tensors.ipynb?hl=en)\n"
   ]
  }
 ],
 "metadata": {
  "kernelspec": {
   "display_name": "Python 3",
   "language": "python",
   "name": "python3"
  },
  "language_info": {
   "codemirror_mode": {
    "name": "ipython",
    "version": 3
   },
   "file_extension": ".py",
   "mimetype": "text/x-python",
   "name": "python",
   "nbconvert_exporter": "python",
   "pygments_lexer": "ipython3",
   "version": "3.6.4"
  }
 },
 "nbformat": 4,
 "nbformat_minor": 2
}
