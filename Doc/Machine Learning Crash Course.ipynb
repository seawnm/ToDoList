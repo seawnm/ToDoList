{
 "cells": [
  {
   "cell_type": "markdown",
   "metadata": {},
   "source": [
    "# Framing\n",
    "* Labels: 資料結果標籤 ex:是/不是\n",
    "* Features: 資料特徵(用來預測結果的資訊)\n",
    "* Model: 依照Features計算出結果的模型\n",
    "\n",
    "## 機器學習問題的簡單分類:\n",
    "* Supervised Learning:已知資料對應的Labels下進行預測\n",
    "    * Regression: 預測數值相關,比如:要預測房屋價格\n",
    "    * Classification: 預測分類相關,比如：要預測是否為病人\n",
    "* Unsupervised Learning:對資料對應的Labels不清楚，讓機器自己學習分類\n",
    "\n",
    "\n"
   ]
  },
  {
   "cell_type": "code",
   "execution_count": null,
   "metadata": {},
   "outputs": [],
   "source": []
  }
 ],
 "metadata": {
  "kernelspec": {
   "display_name": "Python 3",
   "language": "python",
   "name": "python3"
  },
  "language_info": {
   "codemirror_mode": {
    "name": "ipython",
    "version": 3
   },
   "file_extension": ".py",
   "mimetype": "text/x-python",
   "name": "python",
   "nbconvert_exporter": "python",
   "pygments_lexer": "ipython3",
   "version": "3.6.4"
  }
 },
 "nbformat": 4,
 "nbformat_minor": 2
}
