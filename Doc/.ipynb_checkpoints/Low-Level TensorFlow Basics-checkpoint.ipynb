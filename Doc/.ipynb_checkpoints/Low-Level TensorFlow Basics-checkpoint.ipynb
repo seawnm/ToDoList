{
 "cells": [
  {
   "cell_type": "markdown",
   "metadata": {},
   "source": [
    "### Tensorflow基礎用法"
   ]
  },
  {
   "cell_type": "code",
   "execution_count": 2,
   "metadata": {},
   "outputs": [
    {
     "name": "stderr",
     "output_type": "stream",
     "text": [
      "/anaconda3/envs/tensorflow/lib/python3.6/site-packages/h5py/__init__.py:36: FutureWarning: Conversion of the second argument of issubdtype from `float` to `np.floating` is deprecated. In future, it will be treated as `np.float64 == np.dtype(float).type`.\n",
      "  from ._conv import register_converters as _register_converters\n"
     ]
    }
   ],
   "source": [
    "import tensorflow as tf"
   ]
  },
  {
   "cell_type": "code",
   "execution_count": 3,
   "metadata": {},
   "outputs": [],
   "source": [
    "# 建立tensorflow(簡稱tf)字串常數\n",
    "c = tf.constant('Hello, world!')"
   ]
  },
  {
   "cell_type": "code",
   "execution_count": 4,
   "metadata": {},
   "outputs": [
    {
     "name": "stdout",
     "output_type": "stream",
     "text": [
      "Tensor(\"Const:0\", shape=(), dtype=string)\n"
     ]
    }
   ],
   "source": [
    "# 直接印變數只會顯示tf的變數類型\n",
    "print(c)"
   ]
  },
  {
   "cell_type": "code",
   "execution_count": 5,
   "metadata": {},
   "outputs": [
    {
     "name": "stdout",
     "output_type": "stream",
     "text": [
      "b'Hello, world!'\n"
     ]
    }
   ],
   "source": [
    "# 執行tf變數前,需建立tf session(一個session可以部署到多台機器上執行)\n",
    "# with語法可在獨立的命名空間,定義變數(名為sess)的存活範圍\n",
    "# run()可以啟動事先定義好的tf動作(operations),許多動作構成計算圖(graph)\n",
    "with tf.Session() as sess:\n",
    "    print(sess.run(c))"
   ]
  },
  {
   "cell_type": "markdown",
   "metadata": {},
   "source": [
    "---\n",
    "tensor:即任意維度的向量,包括：\n",
    "* scalar: 0維陣列\n",
    "* vector: 向量, 1維陣列\n",
    "* matrix: 矩陣, 2維陣列"
   ]
  },
  {
   "cell_type": "markdown",
   "metadata": {},
   "source": [
    "---\n",
    "TF計算圖中,tensor代表線段,operations代表點,構成graph\n",
    "TF僅會計算需要用到的節點,節省資源加快效率"
   ]
  },
  {
   "cell_type": "code",
   "execution_count": 44,
   "metadata": {},
   "outputs": [
    {
     "name": "stdout",
     "output_type": "stream",
     "text": [
      "x: 5.2\n",
      "y: [0]\n",
      "Run x: 5.2 , Run y: [0]\n"
     ]
    }
   ],
   "source": [
    "## 計算圖內的節點包括constants(值不可變)和variables(值可變)\n",
    "x = tf.constant(5.2)\n",
    "y = tf.Variable([1])\n",
    "# Variable若沒有先初始化, 則一定要先assign才能使用\n",
    "y = y.assign([0])\n",
    "with tf.Session() as sess:\n",
    "#     此處不做初始化\n",
    "#     init = tf.global_variables_initializer()\n",
    "#     sess.run(init)\n",
    "    print('x:',x.eval())\n",
    "    print('y:',y.eval())\n",
    "#   用run也可以\n",
    "    print('Run x:',sess.run(x),', Run y:',sess.run(y))"
   ]
  },
  {
   "cell_type": "markdown",
   "metadata": {},
   "source": [
    "---\n",
    "可為不同目的, 自訂不同的計算圖"
   ]
  },
  {
   "cell_type": "code",
   "execution_count": 7,
   "metadata": {},
   "outputs": [
    {
     "name": "stdout",
     "output_type": "stream",
     "text": [
      "thisAdd: 17\n"
     ]
    }
   ],
   "source": [
    "g=tf.Graph()\n",
    "# 使用g作為接下來預設的計算圖\n",
    "with g.as_default():\n",
    "    x=tf.constant(8, name='x_name')\n",
    "    y=tf.constant(9, name='y_name')\n",
    "    thisAdd=tf.add(x,y, name='thisIsAddName')\n",
    "    \n",
    "    with tf.Session() as sess:\n",
    "#       要注意不是直接用name呼叫\n",
    "        print('thisAdd:',thisAdd.eval())\n",
    "    "
   ]
  },
  {
   "cell_type": "markdown",
   "metadata": {},
   "source": [
    "---\n",
    "矩陣運算練習"
   ]
  },
  {
   "cell_type": "code",
   "execution_count": 10,
   "metadata": {},
   "outputs": [
    {
     "name": "stdout",
     "output_type": "stream",
     "text": [
      "Add: [2 3 4 5 6 7]\n"
     ]
    }
   ],
   "source": [
    "# 加法\n",
    "with g.as_default():\n",
    "#     建立一個vector\n",
    "    primes=tf.constant([1,2,3,4,5,6])\n",
    "#     建立一個長度為6,每格值為1之vector\n",
    "    ones=tf.ones([6], dtype=tf.int32)\n",
    "    \n",
    "    add=tf.add(primes,ones)\n",
    "    with tf.Session() as sess:\n",
    "        print('Add:',add.eval())"
   ]
  },
  {
   "cell_type": "code",
   "execution_count": 14,
   "metadata": {},
   "outputs": [
    {
     "name": "stdout",
     "output_type": "stream",
     "text": [
      "Saclar shape: () ,Value: 0.0\n",
      "Vecotr shape: (3,) ,Value: [0. 0. 0.]\n",
      "Matrix shape: (2, 3) ,Value: [[0. 0. 0.]\n",
      " [0. 0. 0.]]\n"
     ]
    }
   ],
   "source": [
    "# 檢視tensor維度(shape)\n",
    "with g.as_default():\n",
    "#   建立純量\n",
    "    scalar=tf.zeros([])\n",
    "#   建立向量\n",
    "    vector=tf.zeros([3])\n",
    "#   建立矩陣\n",
    "    matrix=tf.zeros([2,3])\n",
    "    \n",
    "    with tf.Session() as sess:\n",
    "        print('Saclar shape:',scalar.get_shape(),',Value:',scalar.eval())\n",
    "        print('Vecotr shape:',vector.get_shape(),',Value:',vector.eval())\n",
    "        print('Matrix shape:',matrix.get_shape(),',Value:',matrix.eval())    "
   ]
  },
  {
   "cell_type": "markdown",
   "metadata": {},
   "source": [
    "---\n",
    "Brodcasting:將運算套用到整個tensor上"
   ]
  },
  {
   "cell_type": "code",
   "execution_count": 17,
   "metadata": {},
   "outputs": [
    {
     "name": "stdout",
     "output_type": "stream",
     "text": [
      "Result: [2 3 4 5 6 7]\n"
     ]
    }
   ],
   "source": [
    "with g.as_default():\n",
    "    primes=tf.constant([1,2,3,4,5,6], dtype=tf.int32)\n",
    "#   此處只有單一值\n",
    "    one=tf.constant(1, dtype=tf.int32)\n",
    "#   加法運算會被套用到整個scalar上\n",
    "    add=tf.add(one,primes)\n",
    "    with tf.Session() as sess:\n",
    "        print('Result:',add.eval())"
   ]
  },
  {
   "cell_type": "markdown",
   "metadata": {},
   "source": [
    "---\n",
    "矩陣乘法"
   ]
  },
  {
   "cell_type": "code",
   "execution_count": 20,
   "metadata": {},
   "outputs": [
    {
     "name": "stdout",
     "output_type": "stream",
     "text": [
      "x: [[ 1  2  3  4]\n",
      " [ 5  6  7  8]\n",
      " [ 9 10 11 12]]\n",
      "y: [[1 1]\n",
      " [2 2]\n",
      " [3 3]\n",
      " [4 4]]\n",
      "Mutiply Result: [[ 30  30]\n",
      " [ 70  70]\n",
      " [110 110]]\n"
     ]
    }
   ],
   "source": [
    "with g.as_default():\n",
    "#   要注意前者的行數要等於後者的列數才能算(ex: 3x4, 4x2 相乘後變成3x2)\n",
    "    x=tf.constant([[1,2,3,4],[5,6,7,8],[9,10,11,12]], dtype=tf.int32)\n",
    "    y=tf.constant([[1,1],[2,2],[3,3],[4,4]], dtype=tf.int32)\n",
    "    \n",
    "    mutiply=tf.matmul(x,y)\n",
    "    with tf.Session() as sess:\n",
    "        print('x:',x.eval())\n",
    "        print('y:',y.eval())\n",
    "#       第一列就是1x1+2x2+3x3+4x4=30,第二列就是5x1+6x2+7x3+8x4=70,etc...\n",
    "        print('Mutiply Result:',mutiply.eval())"
   ]
  },
  {
   "cell_type": "markdown",
   "metadata": {},
   "source": [
    "---\n",
    "Reshape:重新排列tensor的維度"
   ]
  },
  {
   "cell_type": "code",
   "execution_count": 31,
   "metadata": {},
   "outputs": [
    {
     "name": "stdout",
     "output_type": "stream",
     "text": [
      "Number shape: (16,) Value: [ 1  2  3  4  5  6  7  8  9 10 11 12 13 14 15 16]\n",
      "Num2x8 shape: (2, 8) \n",
      "Value: [[ 1  2  3  4  5  6  7  8]\n",
      " [ 9 10 11 12 13 14 15 16]]\n",
      "Num2x2x4 shape: (2, 2, 4) \n",
      "Value: [[[ 1  2  3  4]\n",
      "  [ 5  6  7  8]]\n",
      "\n",
      " [[ 9 10 11 12]\n",
      "  [13 14 15 16]]]\n",
      "Num16 shape: (16,) \n",
      "Value: [ 1  2  3  4  5  6  7  8  9 10 11 12 13 14 15 16]\n"
     ]
    }
   ],
   "source": [
    "with g.as_default():\n",
    "    number=tf.constant([1,2,3,4,5,6,7,8,9,10,11,12,13,14,15,16], dtype=tf.int32)\n",
    "    num2x8=tf.reshape(number,[2,8])\n",
    "    num2x2x4=tf.reshape(number,[2,2,4])\n",
    "    num16=tf.reshape(num2x2x4,[16])\n",
    "    \n",
    "    with tf.Session() as sess:\n",
    "        print('Number shape:',number.get_shape(),'Value:',number.eval())\n",
    "        print('Num2x8 shape:',num2x8.get_shape(),'\\nValue:',num2x8.eval())\n",
    "        print('Num2x2x4 shape:',num2x2x4.get_shape(),'\\nValue:',num2x2x4.eval())\n",
    "        print('Num16 shape:',num16.get_shape(),'\\nValue:',num16.eval())"
   ]
  },
  {
   "cell_type": "markdown",
   "metadata": {},
   "source": [
    "---\n",
    "變數(Variable)的使用"
   ]
  },
  {
   "cell_type": "code",
   "execution_count": 47,
   "metadata": {},
   "outputs": [
    {
     "name": "stdout",
     "output_type": "stream",
     "text": [
      "Error\n",
      "Initialing...\n",
      "x: [3]\n",
      "y: [0.87215114]\n",
      "Initialing again..\n",
      "x: [3]\n",
      "y: [1.2630528]\n"
     ]
    }
   ],
   "source": [
    "with g.as_default():\n",
    "#   建立一個預設值為3的變數\n",
    "    x=tf.Variable([3])\n",
    "#   建立一個變數,預設值為指定常態分配下的隨機亂數\n",
    "    y=tf.Variable(tf.random_normal([1],mean=1.0,stddev=0.35))\n",
    "    \n",
    "    with tf.Session() as sess:\n",
    "#       Variable若沒有初始化就使用會出錯\n",
    "        try:\n",
    "            print('x:',x.eval())\n",
    "        except:\n",
    "            print(\"Error\")\n",
    "        \n",
    "        print('Initialing...')\n",
    "#       初始化時會一併指定亂數值(在同一session內值都會固定)\n",
    "        ini=tf.global_variables_initializer()\n",
    "        sess.run(ini)\n",
    "        print('x:',x.eval())\n",
    "        print('y:',y.eval())\n",
    "        \n",
    "#       再初始化時會重新指定亂數值\n",
    "        print('Initialing again..')\n",
    "        sess.run(ini)\n",
    "        print('x:',x.eval())\n",
    "        print('y:',y.eval())"
   ]
  },
  {
   "cell_type": "markdown",
   "metadata": {},
   "source": [
    "也可以用assign來動態改變變數的值"
   ]
  },
  {
   "cell_type": "code",
   "execution_count": 53,
   "metadata": {},
   "outputs": [
    {
     "name": "stdout",
     "output_type": "stream",
     "text": [
      "x: 3\n",
      "Assign new value...\n",
      "x: 6\n"
     ]
    }
   ],
   "source": [
    "with g.as_default():\n",
    "    x=tf.Variable(3)\n",
    "    with tf.Session() as sess:\n",
    "        sess.run(tf.global_variables_initializer())\n",
    "        print('x:',x.eval())\n",
    "        print('Assign new value...')\n",
    "#       要用session run才會生效\n",
    "        sess.run(tf.assign(x,6))\n",
    "        print('x:',x.eval())"
   ]
  },
  {
   "cell_type": "markdown",
   "metadata": {},
   "source": [
    "### Refence\n",
    "* [TensorFlow Hello World](https://colab.research.google.com/notebooks/mlcc/hello_world.ipynb?hl=en)\n",
    "* [TensorFlow Programming Concepts](https://colab.research.google.com/notebooks/mlcc/tensorflow_programming_concepts.ipynb?hl=en)\n",
    "* [Creating and Manipulating Tensors](https://colab.research.google.com/notebooks/mlcc/creating_and_manipulating_tensors.ipynb?hl=en)\n"
   ]
  }
 ],
 "metadata": {
  "kernelspec": {
   "display_name": "Python 3",
   "language": "python",
   "name": "python3"
  },
  "language_info": {
   "codemirror_mode": {
    "name": "ipython",
    "version": 3
   },
   "file_extension": ".py",
   "mimetype": "text/x-python",
   "name": "python",
   "nbconvert_exporter": "python",
   "pygments_lexer": "ipython3",
   "version": "3.6.4"
  }
 },
 "nbformat": 4,
 "nbformat_minor": 2
}
