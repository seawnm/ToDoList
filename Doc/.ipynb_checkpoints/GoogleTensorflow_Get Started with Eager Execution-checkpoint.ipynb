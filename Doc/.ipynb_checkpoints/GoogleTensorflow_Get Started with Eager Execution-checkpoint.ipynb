{
 "cells": [
  {
   "cell_type": "markdown",
   "metadata": {},
   "source": [
    "Reference:\n",
    "[Get Started with Eager Execution](https://www.tensorflow.org/get_started/eager)"
   ]
  },
  {
   "cell_type": "markdown",
   "metadata": {},
   "source": [
    "目標：熟悉Tensorflow寫法,讀取iris(鳶尾花)資料集,建立模型來預測資料屬於哪一種iris花\n",
    "\n",
    "主要流程：\n",
    "1. 匯入並整理資料\n",
    "2. 選擇適合的model\n",
    "3. 訓練(train) model\n",
    "4. 評估(evaluate) model效果\n",
    "5. 利用訓練後的模型來預測"
   ]
  },
  {
   "cell_type": "markdown",
   "metadata": {},
   "source": [
    "不像一般Tensorflow需要先建立計算圖才能執行,此處使用Eager execution來開發,可以立即得到執行結果\n",
    ">一旦Eager execution設定開啟,則此程式的Eager execution就無法關閉(除非重啟)"
   ]
  },
  {
   "cell_type": "code",
   "execution_count": 3,
   "metadata": {},
   "outputs": [
    {
     "name": "stdout",
     "output_type": "stream",
     "text": [
      "Tensorflow Version:1.5.0\n"
     ]
    }
   ],
   "source": [
    "# 此行適用於python2的環境, python3已經內建\n",
    "# from __future__ import absolute_import, division, print_function\n",
    "\n",
    "# python os操作及繪圖用\n",
    "import os\n",
    "import matplotlib.pyplot as plt\n",
    "\n",
    "# import Tensorflow(tf) and Tensorflow Eager(tfe)\n",
    "import tensorflow as tf\n",
    "import tensorflow.contrib.eager as tfe\n",
    "\n",
    "# 要確認tf version >1.7\n",
    "print('Tensorflow Version:{}'.format(tf.VERSION))"
   ]
  },
  {
   "cell_type": "code",
   "execution_count": 2,
   "metadata": {},
   "outputs": [
    {
     "name": "stdout",
     "output_type": "stream",
     "text": [
      "Tensorflow Version:1.5.0\n"
     ]
    }
   ],
   "source": [
    "# 開啟Eager execution\n",
    "# tf.enable_eager_execution()"
   ]
  }
 ],
 "metadata": {
  "kernelspec": {
   "display_name": "Python 3",
   "language": "python",
   "name": "python3"
  },
  "language_info": {
   "codemirror_mode": {
    "name": "ipython",
    "version": 3
   },
   "file_extension": ".py",
   "mimetype": "text/x-python",
   "name": "python",
   "nbconvert_exporter": "python",
   "pygments_lexer": "ipython3",
   "version": "3.6.4"
  }
 },
 "nbformat": 4,
 "nbformat_minor": 2
}
